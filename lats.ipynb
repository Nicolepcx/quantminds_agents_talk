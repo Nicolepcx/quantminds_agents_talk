{
  "cells": [
    {
      "cell_type": "markdown",
      "source": [
        "# Open Notebook directly in Google Colab:\n",
        "\n",
        "<a target=\"_blank\" href=\"https://colab.research.google.com/github/Nicolepcx/quantminds_agents_talk/blob/main/lats.ipynb\">\n",
        "  <img src=\"https://colab.research.google.com/assets/colab-badge.svg\" alt=\"Open In Colab\"/>\n",
        "</a>"
      ],
      "metadata": {
        "id": "_rOgnx3C4LRo"
      },
      "id": "_rOgnx3C4LRo"
    },
    {
      "cell_type": "markdown",
      "source": [],
      "metadata": {
        "id": "E0UNkf7A4KHE"
      },
      "id": "E0UNkf7A4KHE"
    },
    {
      "cell_type": "markdown",
      "id": "9e0c1743-8775-4de2-a599-78b050551489",
      "metadata": {
        "id": "9e0c1743-8775-4de2-a599-78b050551489"
      },
      "source": [
        "# Language Agent Tree Search\n",
        "\n",
        "[Language Agent Tree Search](https://arxiv.org/abs/2310.04406) (LATS), by Zhou, et. al, is a general LLM agent search algorithm that combines reflection/evaluation and search (specifically monte-carlo trees search) to get achieve better overall task performance compared to similar techniques like ReACT, Reflexion, or Tree of Thoughts.\n",
        "\n",
        "![Graph](https://drive.google.com/uc?export=view&id=1u-zq_WQcuY6FlPB7-VJDCywix45P2W2J)\n",
        "\n",
        "It has four main steps:\n",
        "\n",
        "1. Select: pick the best next actions based on the aggregate rewards from step (2). Either respond (if a solution is found or the max search depth is reached) or continue searching.\n",
        "2. Expand and simulate: select the \"best\" 5 potential actions to take and execute them in parallel.\n",
        "3. Reflect + Evaluate: observe the outcomes of these actions and score the decisions based on reflection (and possibly external feedback)\n",
        "4. Backpropagate: update the scores of the root trajectories based on the outcomes."
      ]
    },
    {
      "cell_type": "markdown",
      "id": "db28668b-5491-4c93-a961-bd339f09202c",
      "metadata": {
        "id": "db28668b-5491-4c93-a961-bd339f09202c"
      },
      "source": [
        "# Dependencies\n",
        "\n",
        "Install `langgraph` (for the framework), `langchain_openai` (for the LLM), and `langchain` + `tavily-python` (for the search engine).\n",
        "\n",
        "We will use tavily search as a tool. You can get an API key [here](https://app.tavily.com/sign-in) or replace with a different tool of your choosing."
      ]
    },
    {
      "cell_type": "code",
      "execution_count": 22,
      "id": "dcc9159b-cc8c-426d-9670-3e8ada06723f",
      "metadata": {
        "id": "dcc9159b-cc8c-426d-9670-3e8ada06723f"
      },
      "outputs": [],
      "source": [
        "!pip install langchain langgraph langchain_openai langchain_core -qqq\n",
        "!pip install tavily-python langchain_community python-dotenv -qqq"
      ]
    },
    {
      "cell_type": "markdown",
      "source": [
        "# Imports"
      ],
      "metadata": {
        "id": "mO17b-FHxF2o"
      },
      "id": "mO17b-FHxF2o"
    },
    {
      "cell_type": "code",
      "source": [
        "import warnings\n",
        "warnings.filterwarnings('ignore')"
      ],
      "metadata": {
        "id": "JP8g7e6ax8Vg"
      },
      "id": "JP8g7e6ax8Vg",
      "execution_count": 23,
      "outputs": []
    },
    {
      "cell_type": "code",
      "execution_count": 24,
      "metadata": {
        "id": "a917bb70-f84c-48e6-8d32-d14f9df2ca2f",
        "colab": {
          "base_uri": "https://localhost:8080/"
        },
        "outputId": "8a6bde19-b3ee-40bc-b649-05319badffc9"
      },
      "outputs": [
        {
          "output_type": "execute_result",
          "data": {
            "text/plain": [
              "True"
            ]
          },
          "metadata": {},
          "execution_count": 24
        }
      ],
      "source": [
        "import os\n",
        "import math\n",
        "import json\n",
        "from collections import deque, defaultdict\n",
        "from typing import Optional, List\n",
        "from typing_extensions import TypedDict\n",
        "\n",
        "from IPython.display import Image\n",
        "\n",
        "from langchain_openai import ChatOpenAI\n",
        "\n",
        "from langchain_core.output_parsers.openai_tools import (\n",
        "    JsonOutputToolsParser,\n",
        "    PydanticToolsParser,\n",
        ")\n",
        "from langchain_core.prompts import ChatPromptTemplate, MessagesPlaceholder\n",
        "from langchain_core.pydantic_v1 import BaseModel, Field\n",
        "from langchain_core.runnables import chain as as_runnable\n",
        "from langchain_core.messages import AIMessage, BaseMessage, HumanMessage, ToolMessage\n",
        "from langchain_community.tools.tavily_search import TavilySearchResults\n",
        "from langchain_community.utilities.tavily_search import TavilySearchAPIWrapper\n",
        "from langgraph.prebuilt.tool_executor import ToolExecutor, ToolInvocation\n",
        "from langchain_core.prompt_values import ChatPromptValue\n",
        "from langchain_core.runnables import RunnableConfig\n",
        "\n",
        "\n",
        "from dotenv import load_dotenv\n",
        "load_dotenv()\n",
        "\n",
        "\n"
      ],
      "id": "a917bb70-f84c-48e6-8d32-d14f9df2ca2f"
    },
    {
      "cell_type": "code",
      "source": [
        "# API-Access\n",
        "\n",
        "OPENAI_API_KEY = os.getenv('OPENAI_API_KEY')\n",
        "TAVILY_API_KEY = os.getenv('TAVILY_API_KEY')"
      ],
      "metadata": {
        "id": "qju62g3fxMDO"
      },
      "id": "qju62g3fxMDO",
      "execution_count": 25,
      "outputs": []
    },
    {
      "cell_type": "markdown",
      "source": [
        "# Init LLM"
      ],
      "metadata": {
        "id": "hk3YoohfxY0H"
      },
      "id": "hk3YoohfxY0H"
    },
    {
      "cell_type": "code",
      "execution_count": 26,
      "id": "48738896-42ac-47eb-b482-0d4d4dd86c87",
      "metadata": {
        "id": "48738896-42ac-47eb-b482-0d4d4dd86c87"
      },
      "outputs": [],
      "source": [
        "llm = ChatOpenAI(model=\"gpt-4o\")"
      ]
    },
    {
      "cell_type": "markdown",
      "id": "f857eacb-af4a-47d1-b45f-da74941125c2",
      "metadata": {
        "id": "f857eacb-af4a-47d1-b45f-da74941125c2"
      },
      "source": [
        "# Graph State\n",
        "\n",
        "LATS is based on a (greedy) Monte-Carlo tree search. For each search steps, it picks the node with the highest \"upper confidence bound\", which is a metric that balances exploitation (highest average reward) and exploration (lowest visits). Starting from that node, it generates N (5 in this case) new candidate actions to take, and adds them to the tree. It stops searching either when it has generated a valid solution OR when it has reached the maximum number of rollouts (search tree depth).\n",
        "\n",
        "Your LangGraph state will be composed of two items:\n",
        "1. The root of the search tree\n",
        "2. The user input"
      ]
    },
    {
      "cell_type": "markdown",
      "id": "1c611f1e-74b4-4157-997c-face8ad409a4",
      "metadata": {
        "id": "1c611f1e-74b4-4157-997c-face8ad409a4"
      },
      "source": [
        "## Reflection\n",
        "\n",
        "The reflection chain will score agent outputs based on the decision and the tool responses.\n",
        "We will call this within the other two nodes."
      ]
    },
    {
      "cell_type": "code",
      "execution_count": 27,
      "id": "ddfd1750-c265-4b29-b505-83b1c5e2d30e",
      "metadata": {
        "id": "ddfd1750-c265-4b29-b505-83b1c5e2d30e"
      },
      "outputs": [],
      "source": [
        "class Reflection(BaseModel):\n",
        "    reflections: str = Field(\n",
        "        description=\"The critique and reflections on the sufficiency, superfluency, and general quality of the response.\"\n",
        "    )\n",
        "    score: int = Field(\n",
        "        description=\"Score from 0-10 on the quality of the candidate response.\",\n",
        "        gte=0,\n",
        "        lte=10,\n",
        "    )\n",
        "    found_solution: bool = Field(\n",
        "        description=\"Whether the response has fully solved the question or task.\"\n",
        "    )\n",
        "\n",
        "    def as_message(self):\n",
        "        return HumanMessage(\n",
        "            content=f\"Reasoning: {self.reflections}\\nScore: {self.score}\"\n",
        "        )\n",
        "\n",
        "    @property\n",
        "    def normalized_score(self) -> float:\n",
        "        \"\"\"Return a normalized score between 0 and 1.\"\"\"\n",
        "        return self.score / 10.0\n",
        "\n",
        "    @classmethod\n",
        "    def from_response(cls, tool_choices, inputs):\n",
        "        \"\"\"Initialize Reflection instance directly from parsed tool response.\"\"\"\n",
        "        reflection = tool_choices[0]\n",
        "        if not isinstance(inputs[\"candidate\"][-1], AIMessage):\n",
        "            reflection.found_solution = False\n",
        "        return reflection\n",
        "\n",
        "# Configure Prompt Template for Reflection\n",
        "prompt = ChatPromptTemplate.from_messages(\n",
        "    [\n",
        "        (\n",
        "            \"system\",\n",
        "            \"Reflect and grade the assistant response to the user question below.\",\n",
        "        ),\n",
        "        (\"user\", \"{input}\"),\n",
        "        MessagesPlaceholder(variable_name=\"candidate\"),\n",
        "    ]\n",
        ")\n",
        "\n",
        "# Reflection Chain Construction\n",
        "reflection_llm_chain = (\n",
        "    prompt\n",
        "    | llm.bind_tools(tools=[Reflection], tool_choice=\"Reflection\").with_config(\n",
        "        run_name=\"Reflection\"\n",
        "    )\n",
        "    | PydanticToolsParser(tools=[Reflection])\n",
        ")\n",
        "\n",
        "@as_runnable\n",
        "def reflection_chain(inputs) -> Reflection:\n",
        "    tool_choices = reflection_llm_chain.invoke(inputs)\n",
        "    return Reflection.from_response(tool_choices, inputs)\n"
      ]
    },
    {
      "cell_type": "code",
      "execution_count": 28,
      "id": "54c6f319-3966-4f66-aa7b-50e249189111",
      "metadata": {
        "id": "54c6f319-3966-4f66-aa7b-50e249189111"
      },
      "outputs": [],
      "source": [
        "class Node:\n",
        "    __slots__ = (\n",
        "        \"messages\", \"parent\", \"children\", \"value\", \"visits\", \"reflection\", \"depth\",\n",
        "        \"_is_solved\"\n",
        "    )\n",
        "\n",
        "    def __init__(\n",
        "        self,\n",
        "        messages: List[BaseMessage],\n",
        "        reflection: 'Reflection',\n",
        "        parent: Optional[\"Node\"] = None,\n",
        "    ):\n",
        "        self.messages = messages\n",
        "        self.parent = parent\n",
        "        self.children = []\n",
        "        self.value = 0\n",
        "        self.visits = 0\n",
        "        self.reflection = reflection\n",
        "        self.depth = parent.depth + 1 if parent is not None else 1\n",
        "        self._is_solved = reflection.found_solution if reflection else False\n",
        "        if self._is_solved:\n",
        "            self._mark_tree_as_solved()\n",
        "        self.backpropagate(reflection.normalized_score)\n",
        "\n",
        "    def __repr__(self) -> str:\n",
        "        return (\n",
        "            f\"<Node value={self.value}, visits={self.visits},\"\n",
        "            f\" solution={self.messages} reflection={self.reflection}/>\"\n",
        "        )\n",
        "\n",
        "    @property\n",
        "    def is_solved(self):\n",
        "        return self._is_solved\n",
        "\n",
        "    @property\n",
        "    def is_terminal(self):\n",
        "        return not self.children\n",
        "\n",
        "    @property\n",
        "    def best_child(self):\n",
        "        if not self.children:\n",
        "            return None\n",
        "        return max(self.children, key=lambda child: child.upper_confidence_bound())\n",
        "\n",
        "    @property\n",
        "    def best_child_score(self):\n",
        "        if not self.children:\n",
        "            return None\n",
        "        return max(self.children, key=lambda child: int(child.is_solved) * child.value)\n",
        "\n",
        "    @property\n",
        "    def height(self) -> int:\n",
        "        if self.children:\n",
        "            return 1 + max(child.height for child in self.children)\n",
        "        return 1\n",
        "\n",
        "    def upper_confidence_bound(self, exploration_weight=1.0):\n",
        "        if self.parent is None:\n",
        "            raise ValueError(\"Cannot obtain UCT from root node\")\n",
        "        if self.visits == 0:\n",
        "            return self.value\n",
        "        average_reward = self.value / self.visits\n",
        "        exploration_term = math.sqrt(math.log(self.parent.visits) / self.visits)\n",
        "        return average_reward + exploration_weight * exploration_term\n",
        "\n",
        "    def backpropagate(self, reward: float):\n",
        "        node = self\n",
        "        while node:\n",
        "            node.visits += 1\n",
        "            node.value = (node.value * (node.visits - 1) + reward) / node.visits\n",
        "            node = node.parent\n",
        "\n",
        "    def get_messages(self, include_reflections: bool = True):\n",
        "        if include_reflections:\n",
        "            return self.messages + [self.reflection.as_message()]\n",
        "        return self.messages\n",
        "\n",
        "    def get_trajectory(self, include_reflections: bool = True) -> List[BaseMessage]:\n",
        "        messages = []\n",
        "        node = self\n",
        "        while node:\n",
        "            messages.extend(\n",
        "                node.get_messages(include_reflections=include_reflections)[::-1]\n",
        "            )\n",
        "            node = node.parent\n",
        "        return messages[::-1]\n",
        "\n",
        "    def _get_all_children(self):\n",
        "        all_nodes = []\n",
        "        nodes = deque([self])\n",
        "        while nodes:\n",
        "            node = nodes.popleft()\n",
        "            all_nodes.extend(node.children)\n",
        "            nodes.extend(node.children)\n",
        "        return all_nodes\n",
        "\n",
        "    def get_best_solution(self):\n",
        "        all_nodes = [self] + self._get_all_children()\n",
        "        best_node = max(\n",
        "            all_nodes,\n",
        "            key=lambda node: int(node.is_terminal and node.is_solved) * node.value,\n",
        "        )\n",
        "        return best_node\n",
        "\n",
        "    def _mark_tree_as_solved(self):\n",
        "        parent = self.parent\n",
        "        while parent:\n",
        "            parent._is_solved = True\n",
        "            parent = parent.parent\n"
      ]
    },
    {
      "cell_type": "markdown",
      "id": "cdd3111f-b860-471f-8784-1d5e3783910d",
      "metadata": {
        "id": "cdd3111f-b860-471f-8784-1d5e3783910d"
      },
      "source": [
        "#### The graph state itself\n",
        "\n",
        "The main component is the tree, represented by the root node."
      ]
    },
    {
      "cell_type": "code",
      "execution_count": 29,
      "id": "e10c94ba-9daa-4899-97ce-4f28428c2c38",
      "metadata": {
        "id": "e10c94ba-9daa-4899-97ce-4f28428c2c38"
      },
      "outputs": [],
      "source": [
        "class TreeState(TypedDict):\n",
        "    # The full tree\n",
        "    root: Node\n",
        "    # The original input\n",
        "    input: str"
      ]
    },
    {
      "cell_type": "markdown",
      "id": "2e8ddf25-d040-4e1f-87bd-5837ff105845",
      "metadata": {
        "id": "2e8ddf25-d040-4e1f-87bd-5837ff105845"
      },
      "source": [
        "# Define Language Agent\n",
        "\n",
        "Our agent will have three primary LLM-powered processes:\n",
        "1. Reflect: score the action based on the tool response.\n",
        "2. Initial response: to create the root node and start the search.\n",
        "3. Expand: generate 5 candidate \"next steps\" from the best spot in the current tree\n",
        "\n",
        "For more \"Grounded\" tool applications (such as code synthesis), you could integrate code execution into the reflection/reward step. This type of external feedback is very useful (though adds complexity to an already complicated example notebook)."
      ]
    },
    {
      "cell_type": "markdown",
      "id": "5d460856-e26d-4430-910e-0aac58563612",
      "metadata": {
        "id": "5d460856-e26d-4430-910e-0aac58563612"
      },
      "source": [
        "#### Tools\n",
        "\n",
        "For our example, we will give the language agent a search engine."
      ]
    },
    {
      "cell_type": "code",
      "execution_count": 30,
      "id": "55c2aff3-f454-43da-8f45-1a3d46523cd5",
      "metadata": {
        "id": "55c2aff3-f454-43da-8f45-1a3d46523cd5"
      },
      "outputs": [],
      "source": [
        "search = TavilySearchAPIWrapper()\n",
        "tavily_tool = TavilySearchResults(api_wrapper=search, max_results=5)\n",
        "tools = [tavily_tool]\n",
        "tool_executor = ToolExecutor(tools=tools)"
      ]
    },
    {
      "cell_type": "markdown",
      "id": "4e47dfb2-4ab3-4a31-b117-f07786b357cb",
      "metadata": {
        "id": "4e47dfb2-4ab3-4a31-b117-f07786b357cb"
      },
      "source": [
        "## Initial Response\n",
        "\n",
        "We start with a single root node, generated by this first step. It responds to the user input either with a tool invocation or a response."
      ]
    },
    {
      "cell_type": "code",
      "execution_count": 31,
      "id": "72fc5363-f0f3-4362-8499-14eb583bd75b",
      "metadata": {
        "id": "72fc5363-f0f3-4362-8499-14eb583bd75b"
      },
      "outputs": [],
      "source": [
        "prompt_template = ChatPromptTemplate.from_messages(\n",
        "    [\n",
        "        (\n",
        "            \"system\",\n",
        "            \"You are an AI assistant.\",\n",
        "        ),\n",
        "        (\"user\", \"{input}\"),\n",
        "        MessagesPlaceholder(variable_name=\"messages\", optional=True),\n",
        "    ]\n",
        ")\n",
        "\n",
        "\n",
        "initial_answer_chain = prompt_template | llm.bind_tools(tools=tools).with_config(\n",
        "    run_name=\"GenerateInitialCandidate\"\n",
        ")\n",
        "\n",
        "\n",
        "parser = JsonOutputToolsParser(return_id=True)"
      ]
    },
    {
      "cell_type": "markdown",
      "id": "7a7d34a6-cee0-4321-989a-963ca4b2caeb",
      "metadata": {
        "id": "7a7d34a6-cee0-4321-989a-963ca4b2caeb"
      },
      "source": [
        "### Starting Node\n",
        "\n",
        "We will package up the candidate generation and reflection in a single node of our graph. This is represented by the following function:"
      ]
    },
    {
      "cell_type": "code",
      "execution_count": 32,
      "id": "5b6b173c-78f5-4ae1-80b3-28c80e68f5c5",
      "metadata": {
        "id": "5b6b173c-78f5-4ae1-80b3-28c80e68f5c5"
      },
      "outputs": [],
      "source": [
        "# Define the node we will add to the graph\n",
        "def generate_initial_response(state: TreeState) -> dict:\n",
        "    \"\"\"Generate the initial candidate response.\"\"\"\n",
        "    res = initial_answer_chain.invoke({\"input\": state[\"input\"]})\n",
        "    parsed = parser.invoke(res)\n",
        "    tool_responses = tool_executor.batch(\n",
        "        [ToolInvocation(tool=r[\"type\"], tool_input=r[\"args\"]) for r in parsed]\n",
        "    )\n",
        "    output_messages = [res] + [\n",
        "        ToolMessage(content=json.dumps(resp), tool_call_id=tool_call[\"id\"])\n",
        "        for resp, tool_call in zip(tool_responses, parsed)\n",
        "    ]\n",
        "    reflection = reflection_chain.invoke(\n",
        "        {\"input\": state[\"input\"], \"candidate\": output_messages}\n",
        "    )\n",
        "    root = Node(output_messages, reflection=reflection)\n",
        "    return {\n",
        "        **state,\n",
        "        \"root\": root,\n",
        "    }"
      ]
    },
    {
      "cell_type": "markdown",
      "id": "34452e88-e33a-474c-9623-075d1f434dda",
      "metadata": {
        "id": "34452e88-e33a-474c-9623-075d1f434dda"
      },
      "source": [
        "## Candidate Generation\n",
        "\n",
        "The following code prompts the same LLM to generate N additional candidates to check."
      ]
    },
    {
      "cell_type": "code",
      "execution_count": 33,
      "id": "d32af859-53e8-46be-8182-7d522be31f54",
      "metadata": {
        "id": "d32af859-53e8-46be-8182-7d522be31f54"
      },
      "outputs": [],
      "source": [
        "def expand(state: TreeState, config: RunnableConfig) -> dict:\n",
        "    \"\"\"Starting from the \"best\" node in the tree, generate N candidates for the next step.\"\"\"\n",
        "    root = state[\"root\"]\n",
        "    best_candidate: Node = root.best_child if root.children else root\n",
        "    messages = best_candidate.get_trajectory()\n",
        "    # Generate N candidates from the single child candidate\n",
        "    new_candidates = expansion_chain.invoke(\n",
        "        {\"input\": state[\"input\"], \"messages\": messages}, config\n",
        "    )\n",
        "    parsed = parser.batch(new_candidates)\n",
        "    flattened = [\n",
        "        (i, tool_call)\n",
        "        for i, tool_calls in enumerate(parsed)\n",
        "        for tool_call in tool_calls\n",
        "    ]\n",
        "    tool_responses = tool_executor.batch(\n",
        "        [\n",
        "            ToolInvocation(tool=tool_call[\"type\"], tool_input=tool_call[\"args\"])\n",
        "            for _, tool_call in flattened\n",
        "        ]\n",
        "    )\n",
        "    collected_responses = defaultdict(list)\n",
        "    for (i, tool_call), resp in zip(flattened, tool_responses):\n",
        "        collected_responses[i].append(\n",
        "            ToolMessage(content=json.dumps(resp), tool_call_id=tool_call[\"id\"])\n",
        "        )\n",
        "    output_messages = []\n",
        "    for i, candidate in enumerate(new_candidates):\n",
        "        output_messages.append([candidate] + collected_responses[i])\n",
        "\n",
        "    # Reflect on each candidate\n",
        "    # For tasks with external validation, you can add it here\n",
        "    reflections = reflection_chain.batch(\n",
        "        [{\"input\": state[\"input\"], \"candidate\": msges} for msges in output_messages],\n",
        "        config,\n",
        "    )\n",
        "    # Grow tree\n",
        "    child_nodes = [\n",
        "        Node(cand, parent=best_candidate, reflection=reflection)\n",
        "        for cand, reflection in zip(output_messages, reflections)\n",
        "    ]\n",
        "    best_candidate.children.extend(child_nodes)\n",
        "    # We have already extended the tree directly, so we just return the state\n",
        "    return state"
      ]
    },
    {
      "cell_type": "code",
      "execution_count": 34,
      "id": "8aec0f20-f978-4df0-8900-e3a1f0544f6d",
      "metadata": {
        "id": "8aec0f20-f978-4df0-8900-e3a1f0544f6d"
      },
      "outputs": [],
      "source": [
        "# Centralized Configuration for LATS with MCTS\n",
        "config = {\n",
        "    \"candidate_count\": 5,  # N - Number of candidate generations\n",
        "    \"max_depth\": 5,        # Max rollout depth for tree search\n",
        "}\n",
        "\n",
        "# Generate Candidates with Centralized Configuration\n",
        "def generate_candidates(messages: ChatPromptValue, config: RunnableConfig):\n",
        "    n = config.get(\"candidate_count\", 5)  # Retrieve from centralized config\n",
        "    bound_kwargs = llm.bind_tools(tools=tools).kwargs\n",
        "\n",
        "    # Generate candidates with preconfigured settings\n",
        "    chat_result = llm.generate(\n",
        "        [messages.to_messages()],\n",
        "        n=n,\n",
        "        callbacks=config[\"callbacks\"],\n",
        "        run_name=\"GenerateCandidates\",\n",
        "        **bound_kwargs,\n",
        "    )\n",
        "    return [gen.message for gen in chat_result.generations[0]]\n",
        "\n",
        "# Build the StateGraph for MCTS with Centralized Depth Control\n",
        "from typing import Literal\n",
        "from langgraph.graph import END, StateGraph, START\n",
        "\n",
        "def should_loop(state: TreeState) -> Literal[\"expand\", \"__end__\"]:\n",
        "    \"\"\"Determine whether to continue the tree search based on centralized config.\"\"\"\n",
        "    root = state[\"root\"]\n",
        "    if root.is_solved:\n",
        "        return END\n",
        "    if root.height > config[\"max_depth\"]:  # Use centralized depth limit\n",
        "        return END\n",
        "    return \"expand\"\n",
        "\n",
        "# Initialize the StateGraph with Tree Nodes\n",
        "builder = StateGraph(TreeState)\n",
        "builder.add_node(\"start\", generate_initial_response)\n",
        "builder.add_node(\"expand\", expand)\n",
        "builder.add_edge(START, \"start\")\n",
        "\n",
        "# Set conditional edges based on should_loop function\n",
        "builder.add_conditional_edges(\"start\", should_loop)\n",
        "builder.add_conditional_edges(\"expand\", should_loop)\n",
        "\n",
        "# Compile the graph\n",
        "graph = builder.compile()\n",
        "\n",
        "# Usage of expansion chain with centralized configuration\n",
        "expansion_chain = prompt_template | generate_candidates\n"
      ]
    },
    {
      "cell_type": "markdown",
      "id": "88ecf775-29ed-4ebd-8297-d1aa3cda3f9b",
      "metadata": {
        "id": "88ecf775-29ed-4ebd-8297-d1aa3cda3f9b"
      },
      "source": [
        "#### Candidate generation node\n",
        "\n",
        "We will package the candidate generation and reflection steps in the following \"expand\" node.\n",
        "We do all the operations as a batch process to speed up execution."
      ]
    },
    {
      "cell_type": "markdown",
      "id": "84bad5da-645d-4c6a-83dd-8c852f21f622",
      "metadata": {
        "id": "84bad5da-645d-4c6a-83dd-8c852f21f622"
      },
      "source": [
        "## Plot Graph\n",
        "\n",
        "With those two nodes defined, we are ready to define the graph. After each agent step, we have the option of finishing."
      ]
    },
    {
      "cell_type": "code",
      "execution_count": 35,
      "id": "d1674593",
      "metadata": {
        "id": "d1674593",
        "outputId": "b195e362-e98a-4bb3-9b76-9e14ecd90936",
        "colab": {
          "base_uri": "https://localhost:8080/",
          "height": 400
        }
      },
      "outputs": [
        {
          "output_type": "execute_result",
          "data": {
            "image/png": "[encoded data removed]",
            "text/plain": [
              "<IPython.core.display.Image object>"
            ]
          },
          "metadata": {},
          "execution_count": 35
        }
      ],
      "source": [
        "Image(graph.get_graph().draw_mermaid_png())"
      ]
    },
    {
      "cell_type": "markdown",
      "id": "1383d69c-1d90-43f5-987e-c7fc4c3a24f8",
      "metadata": {
        "id": "1383d69c-1d90-43f5-987e-c7fc4c3a24f8"
      },
      "source": [
        "#  Run LATS"
      ]
    },
    {
      "cell_type": "code",
      "source": [
        "def run_lats(graph, question: str):\n",
        "    \"\"\"\n",
        "    Executes the graph query with the provided question, streams the results,\n",
        "    and retrieves the best solution's trajectory.\n",
        "\n",
        "    Parameters:\n",
        "    - graph: The LangGraph StateGraph instance.\n",
        "    - question (str): The query or prompt to feed into the graph.\n",
        "\n",
        "    Returns:\n",
        "    - str: The content of the best trajectory's final message.\n",
        "    \"\"\"\n",
        "    last_step = None\n",
        "    for step in graph.stream({\"input\": question}):\n",
        "        last_step = step\n",
        "        step_name, step_state = next(iter(step.items()))\n",
        "        print(step_name)\n",
        "        print(\"rolled out:\", step_state[\"root\"].height)\n",
        "        print(\"---\")\n",
        "\n",
        "    if last_step and \"expand\" in last_step:\n",
        "        solution_node = last_step[\"expand\"][\"root\"].get_best_solution()\n",
        "        best_trajectory = solution_node.get_trajectory(include_reflections=False)\n",
        "        return best_trajectory[-1].content\n",
        "    else:\n",
        "        print(\"No solution found or graph did not expand as expected.\")\n",
        "        return None\n"
      ],
      "metadata": {
        "id": "Gd7bXwmxyz7C"
      },
      "id": "Gd7bXwmxyz7C",
      "execution_count": 36,
      "outputs": []
    },
    {
      "cell_type": "code",
      "source": [
        "question = \"\"\"\n",
        "            Generate a table with the top five AI companies with their annual\n",
        "            revenue and their flagship Foundation Model.\n",
        "            \"\"\"\n",
        "best_solution_content = run_lats(graph, question)\n",
        "if best_solution_content:\n",
        "    print(\"Best solution content:\", best_solution_content)\n"
      ],
      "metadata": {
        "colab": {
          "base_uri": "https://localhost:8080/"
        },
        "id": "JJNJnBZLbwL-",
        "outputId": "9eb31b8e-b69c-4d09-eb11-788b73118260"
      },
      "id": "JJNJnBZLbwL-",
      "execution_count": 38,
      "outputs": [
        {
          "output_type": "stream",
          "name": "stdout",
          "text": [
            "start\n",
            "rolled out: 1\n",
            "---\n",
            "expand\n",
            "rolled out: 2\n",
            "---\n",
            "expand\n",
            "rolled out: 3\n",
            "---\n",
            "Best solution content: You're correct in pointing out the inaccuracies and assumptions in the previous response. Here's a revised table, acknowledging the challenges in obtaining specific revenue figures for AI divisions within larger companies:\n",
            "\n",
            "| Company      | Estimated Revenue (General) | Flagship Foundation Model |\n",
            "|--------------|-----------------------------|---------------------------|\n",
            "| OpenAI       | N/A                         | GPT-4                     |\n",
            "| Google (DeepMind) | Part of Alphabet's $1.88 trillion market cap | Gemini                      |\n",
            "| Microsoft    | N/A                         | Azure AI                  |\n",
            "| IBM          | N/A                         | Granite                   |\n",
            "| Anthropic    | N/A                         | Claude                    |\n",
            "\n",
            "### Notes:\n",
            "- **Revenue Figures**: Specific annual revenue for AI divisions like OpenAI, Google's DeepMind, and others are often not publicly disclosed. The figures or market caps mentioned are for the parent companies.\n",
            "- **Market Cap**: For Alphabet, the market cap is provided instead of specific revenue for DeepMind, as detailed figures are typically consolidated within Alphabet's overall financials.\n",
            "- **Flagship Models**: These are the prominent AI models associated with each company, representing their cutting-edge AI developments.\n",
            "\n",
            "This table aims to reflect the available information more accurately while acknowledging the limitations in financial data disclosure for AI-specific operations.\n"
          ]
        }
      ]
    },
    {
      "cell_type": "code",
      "source": [],
      "metadata": {
        "id": "kvqCMnPacbQt"
      },
      "id": "kvqCMnPacbQt",
      "execution_count": 37,
      "outputs": []
    }
  ],
  "metadata": {
    "kernelspec": {
      "display_name": "Python 3 (ipykernel)",
      "language": "python",
      "name": "python3"
    },
    "language_info": {
      "codemirror_mode": {
        "name": "ipython",
        "version": 3
      },
      "file_extension": ".py",
      "mimetype": "text/x-python",
      "name": "python",
      "nbconvert_exporter": "python",
      "pygments_lexer": "ipython3",
      "version": "3.12.2"
    },
    "colab": {
      "provenance": []
    }
  },
  "nbformat": 4,
  "nbformat_minor": 5
}